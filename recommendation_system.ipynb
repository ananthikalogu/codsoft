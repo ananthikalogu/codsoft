{
  "nbformat": 4,
  "nbformat_minor": 0,
  "metadata": {
    "colab": {
      "provenance": [],
      "authorship_tag": "ABX9TyNx02gX8RFyRwNaeIsggiIK",
      "include_colab_link": true
    },
    "kernelspec": {
      "name": "python3",
      "display_name": "Python 3"
    },
    "language_info": {
      "name": "python"
    }
  },
  "cells": [
    {
      "cell_type": "markdown",
      "metadata": {
        "id": "view-in-github",
        "colab_type": "text"
      },
      "source": [
        "<a href=\"https://colab.research.google.com/github/ananthikalogu/codsoft/blob/main/recommendation_system.ipynb\" target=\"_parent\"><img src=\"https://colab.research.google.com/assets/colab-badge.svg\" alt=\"Open In Colab\"/></a>"
      ]
    },
    {
      "cell_type": "code",
      "execution_count": 4,
      "metadata": {
        "id": "IZ7-XdfHH5lV"
      },
      "outputs": [],
      "source": [
        "import pandas as pd\n",
        "\n",
        "movies = pd.DataFrame({\n",
        "    'movie_id': [1, 2, 3, 4, 5],\n",
        "    'title': ['The Matrix', 'Toy Story', 'Titanic', 'Star Wars', 'Jurassic Park'],\n",
        "    'genre': ['Action|Sci-Fi', 'Animation|Comedy', 'Romance|Drama', 'Action|Sci-Fi', 'Adventure|Sci-Fi']\n",
        "})\n",
        "\n",
        "user_preferences = ['Sci-Fi', 'Action']\n"
      ]
    },
    {
      "cell_type": "code",
      "source": [
        "def recommend_movies(movies, user_preferences, top_n=3):\n",
        "\n",
        "    movies['match_score'] = movies['genre'].apply(\n",
        "        lambda x: sum([1 for genre in user_preferences if genre in x])\n",
        "    )\n",
        "\n",
        "    recommendations = movies.sort_values(\n",
        "        by='match_score', ascending=False).head(top_n)\n",
        "    return recommendations[['title', 'genre', 'match_score']]\n",
        "\n",
        "recommendations = recommend_movies(movies, user_preferences)\n",
        "print(recommendations)\n"
      ],
      "metadata": {
        "colab": {
          "base_uri": "https://localhost:8080/"
        },
        "id": "OyLE-OJIIA7P",
        "outputId": "65ac04c6-a4c2-4e45-a32d-3a6eb167f089"
      },
      "execution_count": 3,
      "outputs": [
        {
          "output_type": "stream",
          "name": "stdout",
          "text": [
            "           title             genre  match_score\n",
            "0     The Matrix     Action|Sci-Fi            2\n",
            "3      Star Wars     Action|Sci-Fi            2\n",
            "4  Jurassic Park  Adventure|Sci-Fi            1\n"
          ]
        }
      ]
    }
  ]
}