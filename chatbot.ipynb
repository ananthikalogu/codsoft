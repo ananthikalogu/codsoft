{
  "cells": [
    {
      "cell_type": "markdown",
      "metadata": {
        "id": "view-in-github",
        "colab_type": "text"
      },
      "source": [
        "<a href=\"https://colab.research.google.com/github/ananthikalogu/codsoft/blob/main/chatbot.ipynb\" target=\"_parent\"><img src=\"https://colab.research.google.com/assets/colab-badge.svg\" alt=\"Open In Colab\"/></a>"
      ]
    },
    {
      "cell_type": "code",
      "execution_count": 2,
      "metadata": {
        "colab": {
          "base_uri": "https://localhost:8080/"
        },
        "id": "agQv-S2aSMKF",
        "outputId": "62ab1a99-01e2-4d26-87be-e75cea0317c1"
      },
      "outputs": [
        {
          "output_type": "stream",
          "name": "stdout",
          "text": [
            "🤖 ChatBot: Hello! I'm your virtual assistant. Type 'exit' to quit the chat.\n",
            "\n",
            "You: hi\n",
            "🤖 ChatBot: Hi there! How can I assist you today?\n",
            "You: who are you\n",
            "🤖 ChatBot: I'm a chatbot created using Python rules. I respond to basic queries.\n",
            "You: how are you\n",
            "🤖 ChatBot: I’m just code, but thanks for asking! How can I help?\n",
            "You: thank\n",
            "🤖 ChatBot: You're welcome! Always here to help.\n",
            "You: help\n",
            "🤖 ChatBot: You can ask me about the time, date, greetings, or just chat casually. Type 'exit' to quit.\n",
            "You: exit\n",
            "🤖 ChatBot: Goodbye! Take care 😊\n"
          ]
        }
      ],
      "source": [
        "import datetime\n",
        "\n",
        "print(\"🤖 ChatBot: Hello! I'm your virtual assistant. Type 'exit' to quit the chat.\\n\")\n",
        "\n",
        "while True:\n",
        "    user_input = input(\"You: \").lower()\n",
        "\n",
        "    if user_input == 'exit':\n",
        "        print(\"🤖 ChatBot: Goodbye! Take care 😊\")\n",
        "        break\n",
        "\n",
        "\n",
        "    elif \"hello\" in user_input or \"hi\" in user_input or \"hey\" in user_input:\n",
        "        print(\"🤖 ChatBot: Hi there! How can I assist you today?\")\n",
        "\n",
        "\n",
        "    elif \"your name\" in user_input:\n",
        "        print(\"🤖 ChatBot: I’m RuleBot! A simple rule-based chatbot.\")\n",
        "\n",
        "\n",
        "    elif \"who are you\" in user_input or \"what are you\" in user_input:\n",
        "        print(\"🤖 ChatBot: I'm a chatbot created using Python rules. I respond to basic queries.\")\n",
        "\n",
        "\n",
        "    elif \"how are you\" in user_input:\n",
        "        print(\"🤖 ChatBot: I’m just code, but thanks for asking! How can I help?\")\n",
        "\n",
        "\n",
        "    elif \"time\" in user_input:\n",
        "        current_time = datetime.datetime.now().strftime(\"%H:%M:%S\")\n",
        "        print(f\"🤖 ChatBot: The current time is {current_time}.\")\n",
        "\n",
        "\n",
        "    elif \"date\" in user_input:\n",
        "        today = datetime.datetime.now().strftime(\"%d-%m-%Y\")\n",
        "        print(f\"🤖 ChatBot: Today's date is {today}.\")\n",
        "\n",
        "\n",
        "    elif \"weather\" in user_input:\n",
        "        print(\"🤖 ChatBot: I can't check the weather, but I hope it's nice where you are! ☀️\")\n",
        "\n",
        "\n",
        "    elif \"thank\" in user_input:\n",
        "        print(\"🤖 ChatBot: You're welcome! Always here to help.\")\n",
        "\n",
        "\n",
        "    elif \"help\" in user_input:\n",
        "        print(\"🤖 ChatBot: You can ask me about the time, date, greetings, or just chat casually. Type 'exit' to quit.\")\n",
        "\n",
        "\n",
        "    else:\n",
        "        print(\"🤖 ChatBot: I'm sorry, I don't understand that yet. Try asking something else.\")\n",
        "\n"
      ]
    }
  ],
  "metadata": {
    "colab": {
      "provenance": [],
      "authorship_tag": "ABX9TyNv/ytbQEJn3fZFdJZGbBBU",
      "include_colab_link": true
    },
    "kernelspec": {
      "display_name": "Python 3",
      "name": "python3"
    },
    "language_info": {
      "name": "python"
    }
  },
  "nbformat": 4,
  "nbformat_minor": 0
}